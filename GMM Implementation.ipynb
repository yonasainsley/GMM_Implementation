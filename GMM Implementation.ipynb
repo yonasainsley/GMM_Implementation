{
  "nbformat": 4,
  "nbformat_minor": 0,
  "metadata": {
    "colab": {
      "name": "uasML - GMM - no.3.ipynb",
      "provenance": [],
      "collapsed_sections": []
    },
    "kernelspec": {
      "name": "python3",
      "display_name": "Python 3"
    },
    "language_info": {
      "name": "python"
    }
  },
  "cells": [
    {
      "cell_type": "code",
      "metadata": {
        "id": "heoymO9ROE7x"
      },
      "source": [
        "import pandas as pd\n",
        "import numpy as np\n",
        "from sklearn.preprocessing import StandardScaler\n",
        "from scipy.stats import multivariate_normal\n",
        "from sklearn.mixture import GaussianMixture\n",
        "from matplotlib import pyplot as plt\n",
        "from scipy.spatial.distance import cdist\n",
        "from sklearn.cluster import KMeans\n",
        "from sklearn.metrics import silhouette_score"
      ],
      "execution_count": null,
      "outputs": []
    },
    {
      "cell_type": "markdown",
      "metadata": {
        "id": "cM8NCoHy1Huj"
      },
      "source": [
        "#Load Dataset"
      ]
    },
    {
      "cell_type": "code",
      "metadata": {
        "id": "ECcLIBKW9Ky8"
      },
      "source": [
        "X = pd.read_csv('UAS_ML2021_DATASET02.csv')"
      ],
      "execution_count": null,
      "outputs": []
    },
    {
      "cell_type": "code",
      "metadata": {
        "id": "NxveYrbOfVey"
      },
      "source": [
        "scaler = StandardScaler()\n",
        "X = scaler.fit_transform(X)"
      ],
      "execution_count": null,
      "outputs": []
    },
    {
      "cell_type": "markdown",
      "metadata": {
        "id": "zWI35PlS1KJx"
      },
      "source": [
        "#Iterating for best K"
      ]
    },
    {
      "cell_type": "code",
      "metadata": {
        "colab": {
          "base_uri": "https://localhost:8080/"
        },
        "id": "j-EPm6i3Q4kE",
        "outputId": "77153a71-18ff-4de9-905f-a761acd0ad77"
      },
      "source": [
        "for i in range(2,10):\n",
        "    kmeans = KMeans(n_clusters = i)\n",
        "    model = kmeans.fit(X)\n",
        "    label = model.labels_\n",
        "    score = silhouette_score(X, label)\n",
        "    print(f'Silhoutte Score for n_clusters {i}: {score}')"
      ],
      "execution_count": null,
      "outputs": [
        {
          "output_type": "stream",
          "text": [
            "Silhoutte Score for n_clusters 2: 0.6621705527181878\n",
            "Silhoutte Score for n_clusters 3: 0.7356847709879415\n",
            "Silhoutte Score for n_clusters 4: 0.595065322092602\n",
            "Silhoutte Score for n_clusters 5: 0.5880894311427806\n",
            "Silhoutte Score for n_clusters 6: 0.5032225001924523\n",
            "Silhoutte Score for n_clusters 7: 0.43699444159503675\n",
            "Silhoutte Score for n_clusters 8: 0.4445322578634643\n",
            "Silhoutte Score for n_clusters 9: 0.44362270267355675\n"
          ],
          "name": "stdout"
        }
      ]
    },
    {
      "cell_type": "markdown",
      "metadata": {
        "id": "8Phd9BTv1Nwk"
      },
      "source": [
        "#Using cluster centers for mu"
      ]
    },
    {
      "cell_type": "code",
      "metadata": {
        "colab": {
          "base_uri": "https://localhost:8080/"
        },
        "id": "GJpLFQKhTYkX",
        "outputId": "dae7f85f-cadd-4901-9988-ecc852988aa0"
      },
      "source": [
        "kmeans = KMeans(n_clusters=3).fit(X)\n",
        "kmeans.cluster_centers_"
      ],
      "execution_count": null,
      "outputs": [
        {
          "output_type": "execute_result",
          "data": {
            "text/plain": [
              "array([[ 1.197698  ,  1.32922733],\n",
              "       [-1.47732521, -1.40637377],\n",
              "       [ 0.12696481,  0.02289726]])"
            ]
          },
          "metadata": {
            "tags": []
          },
          "execution_count": 5
        }
      ]
    },
    {
      "cell_type": "markdown",
      "metadata": {
        "id": "ZYDBmIcz1Va6"
      },
      "source": [
        "#Initialize Variables"
      ]
    },
    {
      "cell_type": "code",
      "metadata": {
        "id": "cj2Bl02UNOGX"
      },
      "source": [
        "# Initialize Variables\n",
        "mu = np.array([[0.12696481, 0.02289726],[1.47732521, -1.40637377],[1.197698,1.32922733]])\n",
        "sigma = np.array([[[0.1, 0.1], [0.1, 0.1]], [[0.1, 0.1], [0.1, 0.1]], [[0.1, 0.1], [0.1, 0.1]]])\n",
        "pi = np.array([1/3, 1/3, 1/3])\n",
        "likelihood = np.zeros( (500, 3) )\n",
        "resp = np.zeros((500,3))"
      ],
      "execution_count": null,
      "outputs": []
    },
    {
      "cell_type": "markdown",
      "metadata": {
        "id": "Cdfy8zGZ1dsr"
      },
      "source": [
        "#E-step and M-step combined"
      ]
    },
    {
      "cell_type": "code",
      "metadata": {
        "id": "5yQPDwKwQ4EV",
        "colab": {
          "base_uri": "https://localhost:8080/"
        },
        "outputId": "2e83c9ca-0359-4d38-e705-113da165c12b"
      },
      "source": [
        "before_likelihood = 0\n",
        "after_likelihood = 0\n",
        "first_likelihood = 0\n",
        "first_resp = 0\n",
        "for j in range(0,100):\n",
        "    for i in range(3):\n",
        "        likelihood[:,i] = multivariate_normal.pdf(X, mu[i], sigma[i], allow_singular=True)\n",
        "        resp[:, i] = pi[i] * likelihood[:,i]\n",
        "\n",
        "    log_likelihood = np.mean(np.log(np.sum(resp, axis = 1)))\n",
        "    after_likelihood = log_likelihood  \n",
        "      \n",
        "    # normalize over all possible cluster assignments\n",
        "    resp = resp / resp.sum(axis = 1, keepdims = 1) \n",
        "    if j==0:\n",
        "        first_likelihood = log_likelihood\n",
        "        first_resp = resp\n",
        "\n",
        "    # Recalculate means and covariance\n",
        "    for i in range(3):\n",
        "        weight = resp[:, [i]]\n",
        "        total_weight = weight.sum()\n",
        "        mu[i] = (X * weight).sum(axis=0) / total_weight\n",
        "        sigma[i] = np.cov(X.T, aweights=(weight/total_weight).flatten(), bias=True)\n",
        "\n",
        "    pi = resp.mean(axis=0)\n",
        "    \n",
        "    print(f'Epoch {j}: {log_likelihood}')\n",
        "\n",
        "    if after_likelihood == before_likelihood:\n",
        "        before_epoch = j-1\n",
        "        after_epoch = j\n",
        "        break\n",
        "    else:\n",
        "        before_likelihood = after_likelihood"
      ],
      "execution_count": null,
      "outputs": [
        {
          "output_type": "stream",
          "text": [
            "Epoch 0: -3.714122371676772\n",
            "Epoch 1: -1.3796549175760606\n",
            "Epoch 2: -1.3487314985987837\n",
            "Epoch 3: -1.335662994191444\n",
            "Epoch 4: -1.3076468636289462\n",
            "Epoch 5: -1.231408714300187\n",
            "Epoch 6: -1.079103306375735\n",
            "Epoch 7: -0.980586600214425\n",
            "Epoch 8: -0.926822276712797\n",
            "Epoch 9: -0.8999434346972778\n",
            "Epoch 10: -0.8654009261406969\n",
            "Epoch 11: -0.8119447693991757\n",
            "Epoch 12: -0.7857082519270199\n",
            "Epoch 13: -0.7853593549440786\n",
            "Epoch 14: -0.7853588130866453\n",
            "Epoch 15: -0.7853587699625408\n",
            "Epoch 16: -0.7853587664927582\n",
            "Epoch 17: -0.7853587662136335\n",
            "Epoch 18: -0.7853587661911804\n",
            "Epoch 19: -0.7853587661893747\n",
            "Epoch 20: -0.7853587661892296\n",
            "Epoch 21: -0.7853587661892175\n",
            "Epoch 22: -0.7853587661892171\n",
            "Epoch 23: -0.7853587661892171\n"
          ],
          "name": "stdout"
        }
      ]
    },
    {
      "cell_type": "code",
      "metadata": {
        "colab": {
          "base_uri": "https://localhost:8080/"
        },
        "id": "FgdhGQhdbBAL",
        "outputId": "042b71c3-168b-4939-f187-bc01444385bf"
      },
      "source": [
        "print(f'First Log Likelihood: {first_likelihood}')\n",
        "print(f'First Responsibility:\\n{first_resp}')"
      ],
      "execution_count": null,
      "outputs": [
        {
          "output_type": "stream",
          "text": [
            "First Log Likelihood: -3.714122371676772\n",
            "First Responsibility:\n",
            "[[4.84430613e-03 4.17485364e-03 7.75762505e-01]\n",
            " [2.92423844e-04 2.40631873e-04 1.30978540e-01]\n",
            " [1.19326566e-01 1.13584221e-01 1.32520161e-07]\n",
            " ...\n",
            " [4.32901360e-02 9.87415161e-02 3.53004177e-33]\n",
            " [1.61673391e-02 5.04030985e-02 1.68734543e-47]\n",
            " [1.31772019e-01 1.29363997e-01 3.59384905e-09]]\n"
          ],
          "name": "stdout"
        }
      ]
    },
    {
      "cell_type": "code",
      "metadata": {
        "id": "2mZv1vhqQorw",
        "colab": {
          "base_uri": "https://localhost:8080/"
        },
        "outputId": "0330f8dc-77be-49ee-f9be-22ef3f22cb6f"
      },
      "source": [
        "print(\"Pi: \", pi)\n",
        "print()\n",
        "print(\"Means :\\n\", mu)\n",
        "print()\n",
        "print(\"Covariances :\\n\", sigma)"
      ],
      "execution_count": null,
      "outputs": [
        {
          "output_type": "stream",
          "text": [
            "Pi:  [0.49995615 0.25000072 0.25004313]\n",
            "\n",
            "Means :\n",
            " [[ 0.13682024  0.02927173]\n",
            " [-1.47731854 -1.40636764]\n",
            " [ 1.20349865  1.34760085]]\n",
            "\n",
            "Covariances :\n",
            " [[[0.1186252  0.02261994]\n",
            "  [0.02261994 0.05547854]]\n",
            "\n",
            " [[0.04634793 0.03839655]\n",
            "  [0.03839655 0.04463047]]\n",
            "\n",
            " [[0.04784261 0.03834003]\n",
            "  [0.03834003 0.04848321]]]\n"
          ],
          "name": "stdout"
        }
      ]
    },
    {
      "cell_type": "markdown",
      "metadata": {
        "id": "qqif6qlw1kHe"
      },
      "source": [
        "#Looped until point of convergence"
      ]
    },
    {
      "cell_type": "code",
      "metadata": {
        "id": "WdzlqGplQ7xr",
        "colab": {
          "base_uri": "https://localhost:8080/"
        },
        "outputId": "e6fb5b7a-39e0-4a61-cd86-caac21f20225"
      },
      "source": [
        "print(f'Converges at Epoch {before_epoch} & {after_epoch} at Log Likelihood of : {log_likelihood}')\n",
        "print('Responsibility :\\n', resp)"
      ],
      "execution_count": null,
      "outputs": [
        {
          "output_type": "stream",
          "text": [
            "Converges at Epoch 22 & 23 at Log Likelihood of : -0.7853587661892171\n",
            "Responsibility :\n",
            " [[4.13551184e-08 1.13437915e-38 9.99999959e-01]\n",
            " [4.64313439e-13 4.60299679e-51 1.00000000e+00]\n",
            " [9.99999954e-01 2.47396159e-12 4.56239646e-08]\n",
            " ...\n",
            " [2.20436116e-12 1.00000000e+00 2.32874947e-40]\n",
            " [1.13861795e-16 1.00000000e+00 1.85545784e-51]\n",
            " [9.99999999e-01 1.94780275e-10 9.49692227e-10]]\n"
          ],
          "name": "stdout"
        }
      ]
    },
    {
      "cell_type": "markdown",
      "metadata": {
        "id": "JNI29olZ12MS"
      },
      "source": [
        "#Validation with Scikit Learn"
      ]
    },
    {
      "cell_type": "code",
      "metadata": {
        "colab": {
          "base_uri": "https://localhost:8080/"
        },
        "id": "Mk6L1-ypoA6B",
        "outputId": "7d964ee3-c462-4808-bedc-2953099b94b9"
      },
      "source": [
        "gmm = GaussianMixture(n_components=3).fit(X)\n",
        "lh = gmm.score(X)\n",
        "print(\"Log Likelihood using Sklearn : \", lh)"
      ],
      "execution_count": null,
      "outputs": [
        {
          "output_type": "stream",
          "text": [
            "Log Likelihood using Sklearn :  -0.7853616483298623\n"
          ],
          "name": "stdout"
        }
      ]
    },
    {
      "cell_type": "code",
      "metadata": {
        "colab": {
          "base_uri": "https://localhost:8080/",
          "height": 265
        },
        "id": "REqW2RjXoTIJ",
        "outputId": "4ee24941-563f-48c5-acd6-f64bb1b0fade"
      },
      "source": [
        "plt.gca().scatter(X[:, 0], X[:, 1], c=gmm.predict(X))\n",
        "\n",
        "centers = gmm.means_\n",
        "radii = [cdist(X[gmm.predict(X) == i], [center]).max() for i, center in enumerate(centers)]\n",
        "\n",
        "for c, r in zip(centers, radii):\n",
        "    plt.gca().add_patch(plt.Circle(c, r, fc='#000000', lw=3, alpha=0.2, zorder=1))\n",
        "plt.show()"
      ],
      "execution_count": null,
      "outputs": [
        {
          "output_type": "display_data",
          "data": {
            "image/png": "[encoded data removed]",
            "text/plain": [
              "<Figure size 432x288 with 1 Axes>"
            ]
          },
          "metadata": {
            "tags": [],
            "needs_background": "light"
          }
        }
      ]
    },
    {
      "cell_type": "code",
      "metadata": {
        "id": "TSoBPr-upC9Y"
      },
      "source": [
        ""
      ],
      "execution_count": null,
      "outputs": []
    }
  ]
}